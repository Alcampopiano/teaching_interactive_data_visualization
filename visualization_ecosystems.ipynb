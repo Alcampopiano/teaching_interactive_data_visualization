{
 "cells": [
  {
   "cell_type": "code",
   "execution_count": 8,
   "metadata": {
    "colab": {},
    "colab_type": "code",
    "id": "0Jpa1XlTmOxk"
   },
   "outputs": [
    {
     "data": {
      "text/plain": [
       "'3.0.1'"
      ]
     },
     "execution_count": 8,
     "metadata": {},
     "output_type": "execute_result"
    }
   ],
   "source": [
    "#!pip install altair -U\n",
    "import altair as alt\n",
    "import pandas as pd\n",
    "import altair as alt\n",
    "from vega_datasets import data\n",
    "alt.__version__"
   ]
  },
  {
   "cell_type": "code",
   "execution_count": 9,
   "metadata": {
    "colab": {},
    "colab_type": "code",
    "id": "_zabOzxf_V-x"
   },
   "outputs": [],
   "source": [
    "def workshop_theme(*args, **kwargs):\n",
    "    return {\n",
    "            \"width\": 400,\n",
    "            \"height\": 200,\n",
    "            \"config\": {\n",
    "              \"title\": {\n",
    "                  'fontSize': 20\n",
    "              },\n",
    "              \"numberFormat\": \".0f\",\n",
    "              \"style\": {\n",
    "                \"bar\": {\n",
    "                  \"size\": 5\n",
    "                },\n",
    "                \"guide-title\": {\n",
    "                  \"fontSize\": 25\n",
    "                },\n",
    "                \"guide-label\": {\n",
    "                  \"fontSize\": 20\n",
    "                },\n",
    "              },\n",
    "              \"scale\": {\n",
    "                \"bandPaddingInner\": 0.5,\n",
    "                \"bandPaddingOuter\": 0.5\n",
    "              },\n",
    "              \"legend\": {\n",
    "                \"symbolSize\": 100,\n",
    "                \"titleFontSize\": 20,\n",
    "                \"labelFontSize\": 18\n",
    "              },\n",
    "              \"axis\": {\n",
    "                \"titleFontSize\": 20,\n",
    "                \"labelFontSize\": 18\n",
    "              }\n",
    "            }\n",
    "          }\n",
    "\n",
    "alt.themes.register('workshop_theme', workshop_theme)\n",
    "alt.themes.enable('workshop_theme');\n",
    "#themes.enable('default')"
   ]
  },
  {
   "cell_type": "markdown",
   "metadata": {
    "colab_type": "text",
    "id": "ZmNYianEB66Z"
   },
   "source": [
    "# Goals of the workshop\n",
    "\n",
    "1. introduce you to some of the popular viz libraries\n",
    "2. teach you how to think about data viz using the \"grammer of graphics\"\n",
    "\n"
   ]
  },
  {
   "cell_type": "markdown",
   "metadata": {
    "colab_type": "text",
    "id": "vP3SK0-bISde"
   },
   "source": [
    "\n",
    "# Agenda\n",
    "- 9:30-10:30\n",
    " - who am I?\n",
    " - the Jupyter Notebook environment\n",
    " - introduction to the data visualization ecosystem\n",
    "- 10:30-10:45\n",
    " - coffe break\n",
    "- 10:45-12\n",
    " - exploring data together on the fly\n",
    " - using the Grammar of Graphics scaffolding as a guide\n",
    "- 12-12:45\n",
    " - lunch\n",
    "- 12:45-1:15\n",
    " - playing a web-based game to test your knowledge\n",
    " - matching grammar, code, and charts\n",
    "\n",
    "<br>\n",
    "...after 1:15\n",
    "- I can stay around to discuss whatever you like\n",
    "\n",
    " \n"
   ]
  },
  {
   "cell_type": "markdown",
   "metadata": {
    "colab_type": "text",
    "id": "gZgOVZPCnFdI"
   },
   "source": [
    "# Today's data visualization ecosystem\n",
    "\n",
    "- not anywhere close to a complete list\n",
    "\n"
   ]
  },
  {
   "cell_type": "markdown",
   "metadata": {
    "colab_type": "text",
    "id": "70WeqyE_IuSH"
   },
   "source": [
    "## Code-based libraries\n",
    "\n",
    "<a href=\"https://matplotlib.org/gallery/index.html\"><img src=\"https://matplotlib.org/_static/logo2.png\" width=\"350\" height=\"85\" /></a>\n",
    "\n",
    "- can make any visualization you can imagine\n",
    "- 800 lb gorilla \n",
    "- powerful but verbose\n",
    "- no interactions\n",
    "\n",
    "<a href=\"https://plot.ly/python/\"><img src=\"https://upload.wikimedia.org/wikipedia/commons/thumb/3/37/Plotly-logo-01-square.png/220px-Plotly-logo-01-square.png\" width=\"195\" /></a>\n",
    "\n",
    "- great for interactive charts\n",
    "- a bit verbose\n",
    "- works with multiple languages\n",
    "- images are rendered on a server\n",
    "- licensing options\n",
    "\n",
    "<a href=\"https://plot.ly/products/dash/\"><img src=\"https://cdn.rawgit.com/plotly/dash-docs/b1178b4e/images/dash-logo-stripe.svg\" width=\"400\" /></a>\n",
    "- web based interactive \"dashboards\"\n",
    "- based on plotly\n",
    "\n",
    "\n",
    "<a href=\"https://www.r-graph-gallery.com/portfolio/ggplot2-package/\"><img src=\"http://hexb.in/hexagons/ggplot2.png\" width=\"145\" /></a>\n",
    "- also implemented in Python (ggplot, plotnine)\n",
    "- very mature library\n",
    "\n",
    "\n",
    "<a href=\"https://shiny.rstudio.com/gallery/genome-browser.html\"><img src=\"https://ih0.redbubble.net/image.543360174.2115/sticker,375x360-bg,ffffff.png\" width=\"190\" /></a>\n",
    "- web based interactive \"dashboards\"\n",
    "- based on ggplot2\n",
    "\n",
    "<br>\n",
    "\n",
    "\n",
    "<a href=\"https://bokeh.pydata.org/en/latest/docs/gallery.html#\"><img src=\"https://www.fullstackpython.com/img/logos/bokeh.jpg\" width=\"250\" /></a>\n",
    "\n",
    "- similar to plotly\n",
    "- can incorporate widgets (slider bars, dropdown menues, etc)\n",
    "- streaming data is possible\n",
    "- verbose for interactions\n",
    "\n",
    "\n",
    "<a href=\"https://d3js.org/\"><img src=\"https://bl.ocks.org/mbostock/raw/e787e283b8cf9d5a8f8a/97458aee5b3a0e4155e7fb989ac1e7b622d1dfa6/d3.svg\" width=\"170\" /></a>\n",
    "\n",
    "- basically more powerful than anything ...\n",
    "\n",
    "\n",
    "## Vega\n",
    "<a href=\"https://vega.github.io/vega/\"><img src=\"https://flourish.studio/images/blog/vega-lite.png\" width=\"500\" height/></a>\n",
    "- built on D3, still requires a lot of code \n",
    "\n",
    "## Vega-Lite\n",
    "<a href=\"https://vega.github.io/vega-lite/\"><img src=\"https://user-images.githubusercontent.com/589034/43657136-ad9cdea6-9709-11e8-91c5-fe8dc0f71065.png\" width=\"170\" /></a>\n",
    "\n",
    "- built on Vega\n",
    "- getting closer to what we would typically need\n",
    "\n",
    "## Altair\n",
    "<a href=\"https://altair-viz.github.io/gallery/index.html\"><img src=\"https://altair-viz.github.io/_static/altair-logo-light.png\" width=\"170\" /></a>\n",
    "\n",
    "- built on Vega-Lite\n",
    "- declarative coding style using a \"grammar of graphics\"\n",
    "- code for static and interactive charts is consise\n",
    "- free to use\n",
    "- a new library that is still being documented\n",
    "- not considered as \"powerful\" as Matplotlib in terms of the kinds of charts you can make\n",
    "-  with Altair you specify *what* you want, and you let the program decide automatically *how* to make it happen\n",
    "\n",
    "<br>\n",
    "<hr> \n",
    "\n",
    "\n",
    "## Graphical based visualization programs\n",
    "\n",
    "- no code required (sort of)\n",
    "- harder to automate\n",
    "- can be expensive \n",
    "\n",
    "<br>\n",
    "\n",
    "<a href=\"http://vega.github.io/voyager/\"><img src=\"https://vega.github.io/voyager/static/media/logo.9de9d031.png\" width=\"400\" /></a>\n",
    "\n",
    "<a href=\"https://www.tableau.com/solutions/gallery\"><img src=\"https://i.pcmag.com/imagery/reviews/03ET1vJXgWnmfrLZ7g542br-5.fit_scale.size_1028x578.v_1569475368.jpg\" width=\"300\" /></a>\n",
    "\n",
    "\n",
    "<a href=\"https://powerbi.microsoft.com/en-us/what-is-power-bi/\"><img src=\"https://senturus.com/wp-content/uploads/2016/05/Power-BI.jpg\" width=\"300\" /></a>\n",
    "\n"
   ]
  },
  {
   "cell_type": "markdown",
   "metadata": {
    "colab_type": "text",
    "id": "NxkO9CTK7ueu"
   },
   "source": [
    "# How to choose the right library for you?\n",
    "\n",
    "- let's rate each library on:\n",
    "  - flexibility\n",
    "  - expressiveness\n",
    "  - interactivity\n",
    "\n",
    "- then we can make a chart about our charting libraries!"
   ]
  },
  {
   "cell_type": "markdown",
   "metadata": {
    "colab_type": "text",
    "id": "_0XZ7ZtV-zdn"
   },
   "source": [
    "### making the data"
   ]
  },
  {
   "cell_type": "code",
   "execution_count": 10,
   "metadata": {
    "colab": {
     "base_uri": "https://localhost:8080/",
     "height": 202
    },
    "colab_type": "code",
    "executionInfo": {
     "elapsed": 415,
     "status": "ok",
     "timestamp": 1552315387332,
     "user": {
      "displayName": "Allan Campopiano",
      "photoUrl": "https://lh6.googleusercontent.com/-jajm12wFRU4/AAAAAAAAAAI/AAAAAAAAAws/b_aS-B759i4/s64/photo.jpg",
      "userId": "17937508290212649605"
     },
     "user_tz": 240
    },
    "id": "fEGhXaa9-tg_",
    "outputId": "79aabfea-313e-4b59-ac8d-73719cdff07c"
   },
   "outputs": [
    {
     "data": {
      "text/html": [
       "<div>\n",
       "<style scoped>\n",
       "    .dataframe tbody tr th:only-of-type {\n",
       "        vertical-align: middle;\n",
       "    }\n",
       "\n",
       "    .dataframe tbody tr th {\n",
       "        vertical-align: top;\n",
       "    }\n",
       "\n",
       "    .dataframe thead th {\n",
       "        text-align: right;\n",
       "    }\n",
       "</style>\n",
       "<table border=\"1\" class=\"dataframe\">\n",
       "  <thead>\n",
       "    <tr style=\"text-align: right;\">\n",
       "      <th></th>\n",
       "      <th>library</th>\n",
       "      <th>criteria</th>\n",
       "      <th>rating</th>\n",
       "    </tr>\n",
       "  </thead>\n",
       "  <tbody>\n",
       "    <tr>\n",
       "      <th>0</th>\n",
       "      <td>matplotlib</td>\n",
       "      <td>expressiveness</td>\n",
       "      <td>0.2</td>\n",
       "    </tr>\n",
       "    <tr>\n",
       "      <th>1</th>\n",
       "      <td>plotly</td>\n",
       "      <td>expressiveness</td>\n",
       "      <td>0.4</td>\n",
       "    </tr>\n",
       "    <tr>\n",
       "      <th>2</th>\n",
       "      <td>ggplot</td>\n",
       "      <td>expressiveness</td>\n",
       "      <td>0.9</td>\n",
       "    </tr>\n",
       "    <tr>\n",
       "      <th>3</th>\n",
       "      <td>bokeh</td>\n",
       "      <td>expressiveness</td>\n",
       "      <td>0.6</td>\n",
       "    </tr>\n",
       "    <tr>\n",
       "      <th>4</th>\n",
       "      <td>d3</td>\n",
       "      <td>expressiveness</td>\n",
       "      <td>0.0</td>\n",
       "    </tr>\n",
       "  </tbody>\n",
       "</table>\n",
       "</div>"
      ],
      "text/plain": [
       "      library        criteria  rating\n",
       "0  matplotlib  expressiveness     0.2\n",
       "1      plotly  expressiveness     0.4\n",
       "2      ggplot  expressiveness     0.9\n",
       "3       bokeh  expressiveness     0.6\n",
       "4          d3  expressiveness     0.0"
      ]
     },
     "execution_count": 10,
     "metadata": {},
     "output_type": "execute_result"
    }
   ],
   "source": [
    "df=pd.DataFrame({'library': ['matplotlib', 'plotly', 'ggplot', 'bokeh', 'd3', 'vega', 'vegalite', 'altair'], \n",
    "                'expressiveness': [.2 , .4, .9, .6, 0, .1, .8, 1], \n",
    "                'flexibility': [.9 , .7, .7, .7, 1, .8, .5, .5],\n",
    "                'interactivity': [0, .7, 0, .7, 1., .9, .8, .8]})\n",
    "\n",
    "df=df.melt(['library'], var_name='criteria', value_name='rating')\n",
    "\n",
    "df.head()"
   ]
  },
  {
   "cell_type": "markdown",
   "metadata": {
    "colab_type": "text",
    "id": "vwb7rB6t_BU_"
   },
   "source": [
    "### make a chart "
   ]
  },
  {
   "cell_type": "code",
   "execution_count": 11,
   "metadata": {
    "colab": {
     "base_uri": "https://localhost:8080/",
     "height": 433
    },
    "colab_type": "code",
    "executionInfo": {
     "elapsed": 302,
     "status": "ok",
     "timestamp": 1552077493543,
     "user": {
      "displayName": "Allan Campopiano",
      "photoUrl": "https://lh6.googleusercontent.com/-jajm12wFRU4/AAAAAAAAAAI/AAAAAAAAAws/b_aS-B759i4/s64/photo.jpg",
      "userId": "17937508290212649605"
     },
     "user_tz": 300
    },
    "id": "hys5J7WK8PyY",
    "outputId": "81281dc6-b944-4922-85ea-6e2186340ce4"
   },
   "outputs": [
    {
     "data": {
      "application/vnd.vegalite.v3+json": {
       "$schema": "https://vega.github.io/schema/vega-lite/v3.2.1.json",
       "config": {
        "axis": {
         "labelFontSize": 18,
         "titleFontSize": 20
        },
        "legend": {
         "labelFontSize": 18,
         "symbolSize": 100,
         "titleFontSize": 20
        },
        "numberFormat": ".0f",
        "scale": {
         "bandPaddingInner": 0.5,
         "bandPaddingOuter": 0.5
        },
        "style": {
         "bar": {
          "size": 5
         },
         "guide-label": {
          "fontSize": 20
         },
         "guide-title": {
          "fontSize": 25
         }
        },
        "title": {
         "fontSize": 20
        }
       },
       "data": {
        "name": "data-7d704fc37b638f77ad93e7e91212fb76"
       },
       "datasets": {
        "data-7d704fc37b638f77ad93e7e91212fb76": [
         {
          "criteria": "expressiveness",
          "library": "matplotlib",
          "rating": 0.2
         },
         {
          "criteria": "expressiveness",
          "library": "plotly",
          "rating": 0.4
         },
         {
          "criteria": "expressiveness",
          "library": "ggplot",
          "rating": 0.9
         },
         {
          "criteria": "expressiveness",
          "library": "bokeh",
          "rating": 0.6
         },
         {
          "criteria": "expressiveness",
          "library": "d3",
          "rating": 0
         },
         {
          "criteria": "expressiveness",
          "library": "vega",
          "rating": 0.1
         },
         {
          "criteria": "expressiveness",
          "library": "vegalite",
          "rating": 0.8
         },
         {
          "criteria": "expressiveness",
          "library": "altair",
          "rating": 1
         },
         {
          "criteria": "flexibility",
          "library": "matplotlib",
          "rating": 0.9
         },
         {
          "criteria": "flexibility",
          "library": "plotly",
          "rating": 0.7
         },
         {
          "criteria": "flexibility",
          "library": "ggplot",
          "rating": 0.7
         },
         {
          "criteria": "flexibility",
          "library": "bokeh",
          "rating": 0.7
         },
         {
          "criteria": "flexibility",
          "library": "d3",
          "rating": 1
         },
         {
          "criteria": "flexibility",
          "library": "vega",
          "rating": 0.8
         },
         {
          "criteria": "flexibility",
          "library": "vegalite",
          "rating": 0.5
         },
         {
          "criteria": "flexibility",
          "library": "altair",
          "rating": 0.5
         },
         {
          "criteria": "interactivity",
          "library": "matplotlib",
          "rating": 0
         },
         {
          "criteria": "interactivity",
          "library": "plotly",
          "rating": 0.7
         },
         {
          "criteria": "interactivity",
          "library": "ggplot",
          "rating": 0
         },
         {
          "criteria": "interactivity",
          "library": "bokeh",
          "rating": 0.7
         },
         {
          "criteria": "interactivity",
          "library": "d3",
          "rating": 1
         },
         {
          "criteria": "interactivity",
          "library": "vega",
          "rating": 0.9
         },
         {
          "criteria": "interactivity",
          "library": "vegalite",
          "rating": 0.8
         },
         {
          "criteria": "interactivity",
          "library": "altair",
          "rating": 0.8
         }
        ]
       },
       "encoding": {
        "color": {
         "field": "criteria",
         "type": "nominal"
        },
        "tooltip": [
         {
          "field": "library",
          "type": "nominal"
         },
         {
          "field": "rating",
          "type": "quantitative"
         },
         {
          "field": "criteria",
          "type": "nominal"
         }
        ],
        "x": {
         "axis": {
          "grid": true
         },
         "field": "library",
         "type": "nominal"
        },
        "y": {
         "field": "rating",
         "type": "quantitative"
        }
       },
       "height": 200,
       "mark": {
        "point": true,
        "strokeWidth": 3,
        "type": "line"
       },
       "width": 500
      },
      "image/png": "[encoded data removed]",
      "text/plain": [
       "<VegaLite 3 object>\n",
       "\n",
       "If you see this message, it means the renderer has not been properly enabled\n",
       "for the frontend that you are using. For more information, see\n",
       "https://altair-viz.github.io/user_guide/troubleshooting.html\n"
      ]
     },
     "execution_count": 11,
     "metadata": {},
     "output_type": "execute_result"
    }
   ],
   "source": [
    "alt.Chart(df).mark_line(point=True, strokeWidth=3).encode(\n",
    "    x=alt.X('library', axis=alt.Axis(grid=True)),\n",
    "    y='rating',\n",
    "    color='criteria',\n",
    "    tooltip=['library', 'rating', 'criteria']\n",
    ").properties(width=500)"
   ]
  },
  {
   "cell_type": "code",
   "execution_count": 12,
   "metadata": {
    "colab": {
     "base_uri": "https://localhost:8080/",
     "height": 439
    },
    "colab_type": "code",
    "executionInfo": {
     "elapsed": 612,
     "status": "ok",
     "timestamp": 1552158128390,
     "user": {
      "displayName": "Allan Campopiano",
      "photoUrl": "https://lh6.googleusercontent.com/-jajm12wFRU4/AAAAAAAAAAI/AAAAAAAAAws/b_aS-B759i4/s64/photo.jpg",
      "userId": "17937508290212649605"
     },
     "user_tz": 300
    },
    "id": "y--kS2XB1Upd",
    "outputId": "5b504c1e-7541-476c-e5a0-d3f9113edfff"
   },
   "outputs": [
    {
     "data": {
      "application/vnd.vegalite.v3+json": {
       "$schema": "https://vega.github.io/schema/vega-lite/v3.2.1.json",
       "config": {
        "axis": {
         "labelFontSize": 18,
         "titleFontSize": 20
        },
        "legend": {
         "labelFontSize": 18,
         "symbolSize": 100,
         "titleFontSize": 20
        },
        "numberFormat": ".0f",
        "scale": {
         "bandPaddingInner": 0.5,
         "bandPaddingOuter": 0.5
        },
        "style": {
         "bar": {
          "size": 5
         },
         "guide-label": {
          "fontSize": 20
         },
         "guide-title": {
          "fontSize": 25
         }
        },
        "title": {
         "fontSize": 20
        }
       },
       "data": {
        "name": "data-7d704fc37b638f77ad93e7e91212fb76"
       },
       "datasets": {
        "data-7d704fc37b638f77ad93e7e91212fb76": [
         {
          "criteria": "expressiveness",
          "library": "matplotlib",
          "rating": 0.2
         },
         {
          "criteria": "expressiveness",
          "library": "plotly",
          "rating": 0.4
         },
         {
          "criteria": "expressiveness",
          "library": "ggplot",
          "rating": 0.9
         },
         {
          "criteria": "expressiveness",
          "library": "bokeh",
          "rating": 0.6
         },
         {
          "criteria": "expressiveness",
          "library": "d3",
          "rating": 0
         },
         {
          "criteria": "expressiveness",
          "library": "vega",
          "rating": 0.1
         },
         {
          "criteria": "expressiveness",
          "library": "vegalite",
          "rating": 0.8
         },
         {
          "criteria": "expressiveness",
          "library": "altair",
          "rating": 1
         },
         {
          "criteria": "flexibility",
          "library": "matplotlib",
          "rating": 0.9
         },
         {
          "criteria": "flexibility",
          "library": "plotly",
          "rating": 0.7
         },
         {
          "criteria": "flexibility",
          "library": "ggplot",
          "rating": 0.7
         },
         {
          "criteria": "flexibility",
          "library": "bokeh",
          "rating": 0.7
         },
         {
          "criteria": "flexibility",
          "library": "d3",
          "rating": 1
         },
         {
          "criteria": "flexibility",
          "library": "vega",
          "rating": 0.8
         },
         {
          "criteria": "flexibility",
          "library": "vegalite",
          "rating": 0.5
         },
         {
          "criteria": "flexibility",
          "library": "altair",
          "rating": 0.5
         },
         {
          "criteria": "interactivity",
          "library": "matplotlib",
          "rating": 0
         },
         {
          "criteria": "interactivity",
          "library": "plotly",
          "rating": 0.7
         },
         {
          "criteria": "interactivity",
          "library": "ggplot",
          "rating": 0
         },
         {
          "criteria": "interactivity",
          "library": "bokeh",
          "rating": 0.7
         },
         {
          "criteria": "interactivity",
          "library": "d3",
          "rating": 1
         },
         {
          "criteria": "interactivity",
          "library": "vega",
          "rating": 0.9
         },
         {
          "criteria": "interactivity",
          "library": "vegalite",
          "rating": 0.8
         },
         {
          "criteria": "interactivity",
          "library": "altair",
          "rating": 0.8
         }
        ]
       },
       "encoding": {
        "color": {
         "field": "criteria",
         "type": "nominal"
        },
        "size": {
         "field": "criteria",
         "scale": {
          "domain": [
           "interactivity",
           "flexibility",
           "expressiveness"
          ],
          "range": [
           100,
           500
          ]
         },
         "type": "nominal"
        },
        "tooltip": [
         {
          "field": "library",
          "type": "nominal"
         },
         {
          "field": "rating",
          "type": "quantitative"
         },
         {
          "field": "criteria",
          "type": "nominal"
         }
        ],
        "x": {
         "axis": {
          "grid": true
         },
         "field": "library",
         "type": "nominal"
        },
        "y": {
         "axis": {
          "grid": false
         },
         "field": "rating",
         "type": "quantitative"
        }
       },
       "height": 200,
       "mark": "point",
       "width": 500
      },
      "image/png": "[encoded data removed]",
      "text/plain": [
       "<VegaLite 3 object>\n",
       "\n",
       "If you see this message, it means the renderer has not been properly enabled\n",
       "for the frontend that you are using. For more information, see\n",
       "https://altair-viz.github.io/user_guide/troubleshooting.html\n"
      ]
     },
     "execution_count": 12,
     "metadata": {},
     "output_type": "execute_result"
    }
   ],
   "source": [
    "alt.Chart(df).mark_point().encode(\n",
    "    x=alt.X('library', axis=alt.Axis(grid=True)),\n",
    "    y=alt.Y('rating', axis=alt.Axis(grid=False)),\n",
    "    color='criteria',\n",
    "    size=alt.Size('criteria', scale=alt.Scale(range=[100,500],domain=['interactivity', 'flexibility','expressiveness'])),\n",
    "    tooltip=['library', 'rating', 'criteria']\n",
    ").properties(width=500)"
   ]
  },
  {
   "cell_type": "code",
   "execution_count": 13,
   "metadata": {
    "colab": {
     "base_uri": "https://localhost:8080/",
     "height": 437
    },
    "colab_type": "code",
    "executionInfo": {
     "elapsed": 1034,
     "status": "ok",
     "timestamp": 1552158259223,
     "user": {
      "displayName": "Allan Campopiano",
      "photoUrl": "https://lh6.googleusercontent.com/-jajm12wFRU4/AAAAAAAAAAI/AAAAAAAAAws/b_aS-B759i4/s64/photo.jpg",
      "userId": "17937508290212649605"
     },
     "user_tz": 300
    },
    "id": "gNoOaPz8zinK",
    "outputId": "e52f4e79-546e-4cbe-a749-10e3995d9f86"
   },
   "outputs": [
    {
     "data": {
      "application/vnd.vegalite.v3+json": {
       "$schema": "https://vega.github.io/schema/vega-lite/v3.2.1.json",
       "config": {
        "axis": {
         "labelFontSize": 18,
         "titleFontSize": 20
        },
        "legend": {
         "labelFontSize": 18,
         "symbolSize": 100,
         "titleFontSize": 20
        },
        "numberFormat": ".0f",
        "scale": {
         "bandPaddingInner": 0.5,
         "bandPaddingOuter": 0.5
        },
        "style": {
         "bar": {
          "size": 5
         },
         "guide-label": {
          "fontSize": 20
         },
         "guide-title": {
          "fontSize": 25
         }
        },
        "title": {
         "fontSize": 20
        }
       },
       "data": {
        "name": "data-7d704fc37b638f77ad93e7e91212fb76"
       },
       "datasets": {
        "data-7d704fc37b638f77ad93e7e91212fb76": [
         {
          "criteria": "expressiveness",
          "library": "matplotlib",
          "rating": 0.2
         },
         {
          "criteria": "expressiveness",
          "library": "plotly",
          "rating": 0.4
         },
         {
          "criteria": "expressiveness",
          "library": "ggplot",
          "rating": 0.9
         },
         {
          "criteria": "expressiveness",
          "library": "bokeh",
          "rating": 0.6
         },
         {
          "criteria": "expressiveness",
          "library": "d3",
          "rating": 0
         },
         {
          "criteria": "expressiveness",
          "library": "vega",
          "rating": 0.1
         },
         {
          "criteria": "expressiveness",
          "library": "vegalite",
          "rating": 0.8
         },
         {
          "criteria": "expressiveness",
          "library": "altair",
          "rating": 1
         },
         {
          "criteria": "flexibility",
          "library": "matplotlib",
          "rating": 0.9
         },
         {
          "criteria": "flexibility",
          "library": "plotly",
          "rating": 0.7
         },
         {
          "criteria": "flexibility",
          "library": "ggplot",
          "rating": 0.7
         },
         {
          "criteria": "flexibility",
          "library": "bokeh",
          "rating": 0.7
         },
         {
          "criteria": "flexibility",
          "library": "d3",
          "rating": 1
         },
         {
          "criteria": "flexibility",
          "library": "vega",
          "rating": 0.8
         },
         {
          "criteria": "flexibility",
          "library": "vegalite",
          "rating": 0.5
         },
         {
          "criteria": "flexibility",
          "library": "altair",
          "rating": 0.5
         },
         {
          "criteria": "interactivity",
          "library": "matplotlib",
          "rating": 0
         },
         {
          "criteria": "interactivity",
          "library": "plotly",
          "rating": 0.7
         },
         {
          "criteria": "interactivity",
          "library": "ggplot",
          "rating": 0
         },
         {
          "criteria": "interactivity",
          "library": "bokeh",
          "rating": 0.7
         },
         {
          "criteria": "interactivity",
          "library": "d3",
          "rating": 1
         },
         {
          "criteria": "interactivity",
          "library": "vega",
          "rating": 0.9
         },
         {
          "criteria": "interactivity",
          "library": "vegalite",
          "rating": 0.8
         },
         {
          "criteria": "interactivity",
          "library": "altair",
          "rating": 0.8
         }
        ]
       },
       "encoding": {
        "color": {
         "field": "criteria",
         "scale": {
          "domain": [
           "interactivity",
           "flexibility",
           "expressiveness"
          ]
         },
         "type": "nominal"
        },
        "size": {
         "field": "criteria",
         "scale": {
          "domain": [
           "interactivity",
           "flexibility",
           "expressiveness"
          ],
          "range": [
           100,
           500
          ]
         },
         "type": "nominal"
        },
        "tooltip": [
         {
          "field": "library",
          "type": "nominal"
         },
         {
          "field": "rating",
          "type": "quantitative"
         },
         {
          "field": "criteria",
          "type": "nominal"
         }
        ],
        "x": {
         "axis": {
          "grid": true
         },
         "field": "library",
         "type": "nominal"
        },
        "y": {
         "axis": {
          "grid": false
         },
         "field": "rating",
         "type": "quantitative"
        }
       },
       "height": 200,
       "mark": "circle",
       "width": 500
      },
      "image/png": "[encoded data removed]",
      "text/plain": [
       "<VegaLite 3 object>\n",
       "\n",
       "If you see this message, it means the renderer has not been properly enabled\n",
       "for the frontend that you are using. For more information, see\n",
       "https://altair-viz.github.io/user_guide/troubleshooting.html\n"
      ]
     },
     "execution_count": 13,
     "metadata": {},
     "output_type": "execute_result"
    }
   ],
   "source": [
    "alt.Chart(df).mark_circle().encode(\n",
    "    x=alt.X('library', axis=alt.Axis(grid=True)),\n",
    "    y=alt.Y('rating', axis=alt.Axis(grid=False)),\n",
    "    color=alt.Color('criteria', scale=alt.Scale(domain=['interactivity', 'flexibility','expressiveness'])),\n",
    "    size=alt.Size('criteria', scale=alt.Scale(range=[100,500],domain=['interactivity', 'flexibility','expressiveness'])),\n",
    "    tooltip=['library', 'rating', 'criteria']\n",
    ").properties(width=500)"
   ]
  },
  {
   "cell_type": "code",
   "execution_count": 14,
   "metadata": {
    "colab": {
     "base_uri": "https://localhost:8080/",
     "height": 435
    },
    "colab_type": "code",
    "executionInfo": {
     "elapsed": 1351,
     "status": "ok",
     "timestamp": 1552158329717,
     "user": {
      "displayName": "Allan Campopiano",
      "photoUrl": "https://lh6.googleusercontent.com/-jajm12wFRU4/AAAAAAAAAAI/AAAAAAAAAws/b_aS-B759i4/s64/photo.jpg",
      "userId": "17937508290212649605"
     },
     "user_tz": 300
    },
    "id": "WUKLaZKpm6t0",
    "outputId": "3eaf829f-fbd4-4cc9-ae31-a79ba7d7f6ee"
   },
   "outputs": [
    {
     "data": {
      "application/vnd.vegalite.v3+json": {
       "$schema": "https://vega.github.io/schema/vega-lite/v3.2.1.json",
       "config": {
        "axis": {
         "labelFontSize": 18,
         "titleFontSize": 20
        },
        "legend": {
         "labelFontSize": 18,
         "symbolSize": 100,
         "titleFontSize": 20
        },
        "numberFormat": ".0f",
        "scale": {
         "bandPaddingInner": 0.5,
         "bandPaddingOuter": 0.5
        },
        "style": {
         "bar": {
          "size": 5
         },
         "guide-label": {
          "fontSize": 20
         },
         "guide-title": {
          "fontSize": 25
         }
        },
        "title": {
         "fontSize": 20
        }
       },
       "data": {
        "name": "data-7d704fc37b638f77ad93e7e91212fb76"
       },
       "datasets": {
        "data-7d704fc37b638f77ad93e7e91212fb76": [
         {
          "criteria": "expressiveness",
          "library": "matplotlib",
          "rating": 0.2
         },
         {
          "criteria": "expressiveness",
          "library": "plotly",
          "rating": 0.4
         },
         {
          "criteria": "expressiveness",
          "library": "ggplot",
          "rating": 0.9
         },
         {
          "criteria": "expressiveness",
          "library": "bokeh",
          "rating": 0.6
         },
         {
          "criteria": "expressiveness",
          "library": "d3",
          "rating": 0
         },
         {
          "criteria": "expressiveness",
          "library": "vega",
          "rating": 0.1
         },
         {
          "criteria": "expressiveness",
          "library": "vegalite",
          "rating": 0.8
         },
         {
          "criteria": "expressiveness",
          "library": "altair",
          "rating": 1
         },
         {
          "criteria": "flexibility",
          "library": "matplotlib",
          "rating": 0.9
         },
         {
          "criteria": "flexibility",
          "library": "plotly",
          "rating": 0.7
         },
         {
          "criteria": "flexibility",
          "library": "ggplot",
          "rating": 0.7
         },
         {
          "criteria": "flexibility",
          "library": "bokeh",
          "rating": 0.7
         },
         {
          "criteria": "flexibility",
          "library": "d3",
          "rating": 1
         },
         {
          "criteria": "flexibility",
          "library": "vega",
          "rating": 0.8
         },
         {
          "criteria": "flexibility",
          "library": "vegalite",
          "rating": 0.5
         },
         {
          "criteria": "flexibility",
          "library": "altair",
          "rating": 0.5
         },
         {
          "criteria": "interactivity",
          "library": "matplotlib",
          "rating": 0
         },
         {
          "criteria": "interactivity",
          "library": "plotly",
          "rating": 0.7
         },
         {
          "criteria": "interactivity",
          "library": "ggplot",
          "rating": 0
         },
         {
          "criteria": "interactivity",
          "library": "bokeh",
          "rating": 0.7
         },
         {
          "criteria": "interactivity",
          "library": "d3",
          "rating": 1
         },
         {
          "criteria": "interactivity",
          "library": "vega",
          "rating": 0.9
         },
         {
          "criteria": "interactivity",
          "library": "vegalite",
          "rating": 0.8
         },
         {
          "criteria": "interactivity",
          "library": "altair",
          "rating": 0.8
         }
        ]
       },
       "encoding": {
        "color": {
         "field": "criteria",
         "type": "nominal"
        },
        "shape": {
         "field": "criteria",
         "type": "nominal"
        },
        "tooltip": [
         {
          "field": "library",
          "type": "nominal"
         },
         {
          "field": "rating",
          "type": "quantitative"
         },
         {
          "field": "criteria",
          "type": "nominal"
         }
        ],
        "x": {
         "axis": {
          "grid": true
         },
         "field": "library",
         "type": "nominal"
        },
        "y": {
         "field": "rating",
         "type": "quantitative"
        }
       },
       "height": 200,
       "mark": {
        "size": 200,
        "type": "point"
       },
       "width": 500
      },
      "image/png": "[encoded data removed]",
      "text/plain": [
       "<VegaLite 3 object>\n",
       "\n",
       "If you see this message, it means the renderer has not been properly enabled\n",
       "for the frontend that you are using. For more information, see\n",
       "https://altair-viz.github.io/user_guide/troubleshooting.html\n"
      ]
     },
     "execution_count": 14,
     "metadata": {},
     "output_type": "execute_result"
    }
   ],
   "source": [
    "alt.Chart(df).mark_point(size=200).encode(\n",
    "    x=alt.X('library', axis=alt.Axis(grid=True)),\n",
    "    y='rating',\n",
    "    color='criteria',\n",
    "    shape='criteria',\n",
    "    tooltip=['library', 'rating', 'criteria']\n",
    ").properties(width=500)"
   ]
  },
  {
   "cell_type": "code",
   "execution_count": 15,
   "metadata": {
    "colab": {
     "base_uri": "https://localhost:8080/",
     "height": 433
    },
    "colab_type": "code",
    "executionInfo": {
     "elapsed": 1263,
     "status": "ok",
     "timestamp": 1552155115716,
     "user": {
      "displayName": "Allan Campopiano",
      "photoUrl": "https://lh6.googleusercontent.com/-jajm12wFRU4/AAAAAAAAAAI/AAAAAAAAAws/b_aS-B759i4/s64/photo.jpg",
      "userId": "17937508290212649605"
     },
     "user_tz": 300
    },
    "id": "4n8F_Qn5pxdS",
    "outputId": "54e87b8e-d139-441d-8b38-429a7bfbf915"
   },
   "outputs": [
    {
     "data": {
      "application/vnd.vegalite.v3+json": {
       "$schema": "https://vega.github.io/schema/vega-lite/v3.2.1.json",
       "config": {
        "axis": {
         "labelFontSize": 18,
         "titleFontSize": 20
        },
        "legend": {
         "labelFontSize": 18,
         "symbolSize": 100,
         "titleFontSize": 20
        },
        "numberFormat": ".0f",
        "scale": {
         "bandPaddingInner": 0.5,
         "bandPaddingOuter": 0.5
        },
        "style": {
         "bar": {
          "size": 5
         },
         "guide-label": {
          "fontSize": 20
         },
         "guide-title": {
          "fontSize": 25
         }
        },
        "title": {
         "fontSize": 20
        }
       },
       "data": {
        "name": "data-7d704fc37b638f77ad93e7e91212fb76"
       },
       "datasets": {
        "data-7d704fc37b638f77ad93e7e91212fb76": [
         {
          "criteria": "expressiveness",
          "library": "matplotlib",
          "rating": 0.2
         },
         {
          "criteria": "expressiveness",
          "library": "plotly",
          "rating": 0.4
         },
         {
          "criteria": "expressiveness",
          "library": "ggplot",
          "rating": 0.9
         },
         {
          "criteria": "expressiveness",
          "library": "bokeh",
          "rating": 0.6
         },
         {
          "criteria": "expressiveness",
          "library": "d3",
          "rating": 0
         },
         {
          "criteria": "expressiveness",
          "library": "vega",
          "rating": 0.1
         },
         {
          "criteria": "expressiveness",
          "library": "vegalite",
          "rating": 0.8
         },
         {
          "criteria": "expressiveness",
          "library": "altair",
          "rating": 1
         },
         {
          "criteria": "flexibility",
          "library": "matplotlib",
          "rating": 0.9
         },
         {
          "criteria": "flexibility",
          "library": "plotly",
          "rating": 0.7
         },
         {
          "criteria": "flexibility",
          "library": "ggplot",
          "rating": 0.7
         },
         {
          "criteria": "flexibility",
          "library": "bokeh",
          "rating": 0.7
         },
         {
          "criteria": "flexibility",
          "library": "d3",
          "rating": 1
         },
         {
          "criteria": "flexibility",
          "library": "vega",
          "rating": 0.8
         },
         {
          "criteria": "flexibility",
          "library": "vegalite",
          "rating": 0.5
         },
         {
          "criteria": "flexibility",
          "library": "altair",
          "rating": 0.5
         },
         {
          "criteria": "interactivity",
          "library": "matplotlib",
          "rating": 0
         },
         {
          "criteria": "interactivity",
          "library": "plotly",
          "rating": 0.7
         },
         {
          "criteria": "interactivity",
          "library": "ggplot",
          "rating": 0
         },
         {
          "criteria": "interactivity",
          "library": "bokeh",
          "rating": 0.7
         },
         {
          "criteria": "interactivity",
          "library": "d3",
          "rating": 1
         },
         {
          "criteria": "interactivity",
          "library": "vega",
          "rating": 0.9
         },
         {
          "criteria": "interactivity",
          "library": "vegalite",
          "rating": 0.8
         },
         {
          "criteria": "interactivity",
          "library": "altair",
          "rating": 0.8
         }
        ]
       },
       "encoding": {
        "color": {
         "field": "criteria",
         "type": "nominal"
        },
        "x": {
         "field": "library",
         "type": "nominal"
        },
        "y": {
         "field": "rating",
         "type": "quantitative"
        }
       },
       "height": 200,
       "mark": "bar",
       "width": 400
      },
      "image/png": "[encoded data removed]",
      "text/plain": [
       "<VegaLite 3 object>\n",
       "\n",
       "If you see this message, it means the renderer has not been properly enabled\n",
       "for the frontend that you are using. For more information, see\n",
       "https://altair-viz.github.io/user_guide/troubleshooting.html\n"
      ]
     },
     "execution_count": 15,
     "metadata": {},
     "output_type": "execute_result"
    }
   ],
   "source": [
    "alt.Chart(df).mark_bar().encode(\n",
    "    x='library',\n",
    "    y='rating',\n",
    "    color='criteria',\n",
    ")"
   ]
  },
  {
   "cell_type": "code",
   "execution_count": 16,
   "metadata": {
    "colab": {
     "base_uri": "https://localhost:8080/",
     "height": 425
    },
    "colab_type": "code",
    "executionInfo": {
     "elapsed": 757,
     "status": "ok",
     "timestamp": 1552157388060,
     "user": {
      "displayName": "Allan Campopiano",
      "photoUrl": "https://lh6.googleusercontent.com/-jajm12wFRU4/AAAAAAAAAAI/AAAAAAAAAws/b_aS-B759i4/s64/photo.jpg",
      "userId": "17937508290212649605"
     },
     "user_tz": 300
    },
    "id": "4CP4paaeyYJD",
    "outputId": "24de4579-7015-4f33-c12a-212e2869462d"
   },
   "outputs": [
    {
     "data": {
      "application/vnd.vegalite.v3+json": {
       "$schema": "https://vega.github.io/schema/vega-lite/v3.2.1.json",
       "config": {
        "axis": {
         "labelFontSize": 18,
         "titleFontSize": 20
        },
        "legend": {
         "labelFontSize": 18,
         "symbolSize": 100,
         "titleFontSize": 20
        },
        "numberFormat": ".0f",
        "scale": {
         "bandPaddingInner": 0.5,
         "bandPaddingOuter": 0.5
        },
        "style": {
         "bar": {
          "size": 5
         },
         "guide-label": {
          "fontSize": 20
         },
         "guide-title": {
          "fontSize": 25
         }
        },
        "title": {
         "fontSize": 20
        }
       },
       "data": {
        "name": "data-7d704fc37b638f77ad93e7e91212fb76"
       },
       "datasets": {
        "data-7d704fc37b638f77ad93e7e91212fb76": [
         {
          "criteria": "expressiveness",
          "library": "matplotlib",
          "rating": 0.2
         },
         {
          "criteria": "expressiveness",
          "library": "plotly",
          "rating": 0.4
         },
         {
          "criteria": "expressiveness",
          "library": "ggplot",
          "rating": 0.9
         },
         {
          "criteria": "expressiveness",
          "library": "bokeh",
          "rating": 0.6
         },
         {
          "criteria": "expressiveness",
          "library": "d3",
          "rating": 0
         },
         {
          "criteria": "expressiveness",
          "library": "vega",
          "rating": 0.1
         },
         {
          "criteria": "expressiveness",
          "library": "vegalite",
          "rating": 0.8
         },
         {
          "criteria": "expressiveness",
          "library": "altair",
          "rating": 1
         },
         {
          "criteria": "flexibility",
          "library": "matplotlib",
          "rating": 0.9
         },
         {
          "criteria": "flexibility",
          "library": "plotly",
          "rating": 0.7
         },
         {
          "criteria": "flexibility",
          "library": "ggplot",
          "rating": 0.7
         },
         {
          "criteria": "flexibility",
          "library": "bokeh",
          "rating": 0.7
         },
         {
          "criteria": "flexibility",
          "library": "d3",
          "rating": 1
         },
         {
          "criteria": "flexibility",
          "library": "vega",
          "rating": 0.8
         },
         {
          "criteria": "flexibility",
          "library": "vegalite",
          "rating": 0.5
         },
         {
          "criteria": "flexibility",
          "library": "altair",
          "rating": 0.5
         },
         {
          "criteria": "interactivity",
          "library": "matplotlib",
          "rating": 0
         },
         {
          "criteria": "interactivity",
          "library": "plotly",
          "rating": 0.7
         },
         {
          "criteria": "interactivity",
          "library": "ggplot",
          "rating": 0
         },
         {
          "criteria": "interactivity",
          "library": "bokeh",
          "rating": 0.7
         },
         {
          "criteria": "interactivity",
          "library": "d3",
          "rating": 1
         },
         {
          "criteria": "interactivity",
          "library": "vega",
          "rating": 0.9
         },
         {
          "criteria": "interactivity",
          "library": "vegalite",
          "rating": 0.8
         },
         {
          "criteria": "interactivity",
          "library": "altair",
          "rating": 0.8
         }
        ]
       },
       "encoding": {
        "color": {
         "field": "rating",
         "type": "quantitative"
        },
        "tooltip": [
         {
          "field": "library",
          "type": "nominal"
         },
         {
          "field": "rating",
          "type": "quantitative"
         },
         {
          "field": "criteria",
          "type": "nominal"
         }
        ],
        "x": {
         "field": "library",
         "type": "nominal"
        },
        "y": {
         "field": "criteria",
         "type": "nominal"
        }
       },
       "height": 200,
       "mark": "rect",
       "width": 500
      },
      "image/png": "[encoded data removed]",
      "text/plain": [
       "<VegaLite 3 object>\n",
       "\n",
       "If you see this message, it means the renderer has not been properly enabled\n",
       "for the frontend that you are using. For more information, see\n",
       "https://altair-viz.github.io/user_guide/troubleshooting.html\n"
      ]
     },
     "execution_count": 16,
     "metadata": {},
     "output_type": "execute_result"
    }
   ],
   "source": [
    "alt.Chart(df).mark_rect().encode(\n",
    "    x='library',\n",
    "    y='criteria',\n",
    "    color='rating',\n",
    "    tooltip=['library', 'rating', 'criteria']\n",
    ").properties(width=500)"
   ]
  },
  {
   "cell_type": "markdown",
   "metadata": {
    "colab_type": "text",
    "id": "5Cz-IldLdyyO"
   },
   "source": [
    "# Important factors to consider when choosing a viz library\n",
    "- do you need reproducibility and/or automation?\n",
    "- do you need interactivity?  ([see here](https://medium.com/@dominikus/the-end-of-interactive-visualizations-52c585dcafcb))\n",
    "- sharing data?\n",
    "- are you exploring or designing for final publication?\n",
    "- do you need GIS or 3D charts?\n",
    "- user authentication\n",
    "- the job market\n",
    "- integration with data wrangling tools"
   ]
  }
 ],
 "metadata": {
  "colab": {
   "collapsed_sections": [],
   "name": "visualization_ecosystems",
   "provenance": [
    {
     "file_id": "1B2kdhnm0KDZpANC2WT4lirXOxNHQ5FF2",
     "timestamp": 1530232572724
    }
   ],
   "version": "0.3.2"
  },
  "kernelspec": {
   "display_name": "Python 3",
   "language": "python",
   "name": "python3"
  },
  "language_info": {
   "codemirror_mode": {
    "name": "ipython",
    "version": 3
   },
   "file_extension": ".py",
   "mimetype": "text/x-python",
   "name": "python",
   "nbconvert_exporter": "python",
   "pygments_lexer": "ipython3",
   "version": "3.7.1"
  }
 },
 "nbformat": 4,
 "nbformat_minor": 4
}
